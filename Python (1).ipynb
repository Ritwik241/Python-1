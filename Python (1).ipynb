{
  "nbformat": 4,
  "nbformat_minor": 0,
  "metadata": {
    "colab": {
      "provenance": []
    },
    "kernelspec": {
      "name": "python3",
      "display_name": "Python 3"
    },
    "language_info": {
      "name": "python"
    }
  },
  "cells": [
    {
      "cell_type": "markdown",
      "source": [
        "1. Explain the key features of Python that make it a popular choice for programming\n",
        "\n",
        "   - The key features of Python that make it a popular choice for programming are -\n",
        "   \n",
        "   (1). Simple and Easy to Learn:\n",
        "Python has a very clean and readable syntax, which makes it easier for beginners to learn and understand. The code often looks like plain English, which helps in writing and reading programs more comfortably.\n",
        "   \n",
        "   \n",
        "   (2). Interpreted Language:\n",
        "Python doesn’t require compilation before running the code. It executes line by line, which makes it easier to find and fix errors during development.\n",
        "\n",
        "\n",
        "  (3). Dynamically Typed:\n",
        "In Python, you don’t have to specify the type of a variable when declaring it. The type is determined automatically at runtime.\n",
        "    \n",
        "   (4).High-Level Language:\n",
        "Python is designed to be close to human language. It handles many complex details like memory management, so you can focus more on problem-solving.\n",
        "\n",
        "\n",
        "   (5). Extensive Library Support:\n",
        "Python comes with a wide range of standard libraries like math, datetime, and popular third-party libraries like numpy, pandas, and matplotlib, which help in tasks like data analysis, scientific computing, and more.\n",
        "\n",
        "\n",
        "   (6). Portability:\n",
        "Python is a cross-platform language, meaning you can run the same Python program on different operating systems like Windows, macOS, and Linux without any changes in the code."
      ],
      "metadata": {
        "id": "OxJS_HSjlZ4P"
      }
    },
    {
      "cell_type": "code",
      "source": [
        "# Example: Simple Print\n",
        "print(\"Hello World\")"
      ],
      "metadata": {
        "colab": {
          "base_uri": "https://localhost:8080/"
        },
        "id": "zgrsugGBqqJV",
        "outputId": "5b2933f1-cde2-47f5-ff24-5389226ede52"
      },
      "execution_count": null,
      "outputs": [
        {
          "output_type": "stream",
          "name": "stdout",
          "text": [
            "Hello World\n"
          ]
        }
      ]
    },
    {
      "cell_type": "markdown",
      "source": [
        "#Python\n"
      ],
      "metadata": {
        "id": "e2ncAcjpk6Ya"
      }
    },
    {
      "cell_type": "code",
      "source": [
        "# Example: Dynamic Typing\n",
        "x = 10\n",
        "print(\"x is:\",x)\n",
        "x = \"python\"\n",
        "print(\"Now x is:,x\")"
      ],
      "metadata": {
        "colab": {
          "base_uri": "https://localhost:8080/"
        },
        "id": "r7V3aASlq9H1",
        "outputId": "b0242021-450e-467e-8d1b-8b6ef1fcdd47"
      },
      "execution_count": null,
      "outputs": [
        {
          "output_type": "stream",
          "name": "stdout",
          "text": [
            "x is: 10\n",
            "Now x is:,x\n"
          ]
        }
      ]
    },
    {
      "cell_type": "markdown",
      "source": [
        "2. Describe the role of predefined keywords in Python and provide examples of how they are used in a program.\n",
        "   - The role of predefined keywords in Python are -\n",
        "\n",
        "    Predefined keywords in Python are reserved words that have special meaning in the language. These keywords define the syntax and structure of Python code and cannot be used for variable names, function names, or identifiers. They are essential for writing logical statements, loops, functions, exceptions, and more.\n",
        "\n",
        "\n",
        "    (1). Common Uses of Python Keywords:\n",
        "    (a) if,else,elif-Conditional Statements\n",
        "    (b) for,while,break,continue - Loops\n",
        "    (c) def,return - Defining and returning from functions\n",
        "    (d) import - importing modules\n",
        "    (e) class,self,_init_-creating classes and objects\n",
        "    (f) try,except,finally - Error handling\n",
        "    (g) True, False,None - Boolean values and null\n",
        "  \n"
      ],
      "metadata": {
        "id": "1w-3gt0JsKyh"
      }
    },
    {
      "cell_type": "markdown",
      "source": [
        " (a) if,else,elif-Conditional Statements"
      ],
      "metadata": {
        "id": "etOaLEsNo_d_"
      }
    },
    {
      "cell_type": "code",
      "source": [
        "\n",
        " marks = 75\n",
        "\n",
        "if marks >= 90:\n",
        "    print(\"Grade: A\")\n",
        "elif marks >= 75:\n",
        "    print(\"Grade: B\")\n",
        "elif marks >= 60:\n",
        "    print(\"Grade: C\")\n",
        "elif marks >= 40:\n",
        "    print(\"Grade: D\")\n",
        "else:\n",
        "    print(\"Grade: F (Fail)\")"
      ],
      "metadata": {
        "colab": {
          "base_uri": "https://localhost:8080/"
        },
        "id": "3KrXenebmoI-",
        "outputId": "1a0edf29-2e60-4412-aff3-cc1cb9672f76"
      },
      "execution_count": null,
      "outputs": [
        {
          "output_type": "stream",
          "name": "stdout",
          "text": [
            "Grade: B\n"
          ]
        }
      ]
    },
    {
      "cell_type": "markdown",
      "source": [
        " (b) for,while,break,continue - Loops"
      ],
      "metadata": {
        "id": "8Xt-_GALo6qg"
      }
    },
    {
      "cell_type": "code",
      "source": [
        "\n",
        "for i in range(5):\n",
        "  if i == 3:\n",
        "    break\n",
        "    print(i)"
      ],
      "metadata": {
        "id": "oPt94OHUmwmp"
      },
      "execution_count": null,
      "outputs": []
    },
    {
      "cell_type": "code",
      "source": [
        "print(i)"
      ],
      "metadata": {
        "colab": {
          "base_uri": "https://localhost:8080/"
        },
        "id": "oxQ4IrLFnZ4m",
        "outputId": "ecbb7336-d709-4487-d10b-8dddfde0623d"
      },
      "execution_count": null,
      "outputs": [
        {
          "output_type": "stream",
          "name": "stdout",
          "text": [
            "3\n"
          ]
        }
      ]
    },
    {
      "cell_type": "markdown",
      "source": [
        " (c) def,return - Defining and returning from functions"
      ],
      "metadata": {
        "id": "mGCFMffro4Ce"
      }
    },
    {
      "cell_type": "code",
      "source": [
        "\n",
        "def add(a, b):\n",
        "  return a + b\n",
        "  print(add(3,4))"
      ],
      "metadata": {
        "id": "Y_QDh2-nnkJa"
      },
      "execution_count": null,
      "outputs": []
    },
    {
      "cell_type": "code",
      "source": [
        "print(add(3,4))"
      ],
      "metadata": {
        "colab": {
          "base_uri": "https://localhost:8080/"
        },
        "id": "KHYivPGToF5y",
        "outputId": "5853f87c-7bf7-40e4-ead7-2050e0a16b7a"
      },
      "execution_count": null,
      "outputs": [
        {
          "output_type": "stream",
          "name": "stdout",
          "text": [
            "7\n"
          ]
        }
      ]
    },
    {
      "cell_type": "markdown",
      "source": [
        "(d) import - importing modules"
      ],
      "metadata": {
        "id": "RP_HvLwioz_n"
      }
    },
    {
      "cell_type": "code",
      "source": [
        "\n",
        "import math\n",
        "print(math.sqrt(16))"
      ],
      "metadata": {
        "colab": {
          "base_uri": "https://localhost:8080/"
        },
        "id": "2tSsoixCoIOc",
        "outputId": "c268b1ba-451c-4f24-ff8b-c78cf23cc241"
      },
      "execution_count": null,
      "outputs": [
        {
          "output_type": "stream",
          "name": "stdout",
          "text": [
            "4.0\n"
          ]
        }
      ]
    },
    {
      "cell_type": "markdown",
      "source": [
        "(e) class,self,_init_-creating classes and objects"
      ],
      "metadata": {
        "id": "LH13BwxwpIyY"
      }
    },
    {
      "cell_type": "code",
      "source": [
        "class person:\n",
        "  def __init__(self, name):\n",
        "    self.name = name\n",
        "  def greet(self):\n",
        "    print(\"Hello\", self.name)\n",
        "p = person(\"Ritwik\")\n",
        "p.greet()"
      ],
      "metadata": {
        "colab": {
          "base_uri": "https://localhost:8080/"
        },
        "id": "b3h4GxkNpJ-h",
        "outputId": "67dbc823-42c5-4c5f-d420-189e4addd52c"
      },
      "execution_count": null,
      "outputs": [
        {
          "output_type": "stream",
          "name": "stdout",
          "text": [
            "Hello Ritwik\n"
          ]
        }
      ]
    },
    {
      "cell_type": "markdown",
      "source": [
        "(f) try,except,finally - Error handling"
      ],
      "metadata": {
        "id": "jL_rFo5LrPiK"
      }
    },
    {
      "cell_type": "code",
      "source": [
        "try:\n",
        "  x = 1 / 0\n",
        "except ZeroDivisionError:\n",
        "  print(\"cannot divided by zero\")\n",
        "finally:\n",
        "    print(\"Done\")"
      ],
      "metadata": {
        "colab": {
          "base_uri": "https://localhost:8080/"
        },
        "id": "PUOfTUpurRF0",
        "outputId": "f0da5b7e-8926-481c-c36c-30c358d669c3"
      },
      "execution_count": null,
      "outputs": [
        {
          "output_type": "stream",
          "name": "stdout",
          "text": [
            "cannot divided by zero\n",
            "Done\n"
          ]
        }
      ]
    },
    {
      "cell_type": "markdown",
      "source": [
        "(g) True, False,None - Boolean values and null"
      ],
      "metadata": {
        "id": "gDCgsJ1DsMVx"
      }
    },
    {
      "cell_type": "code",
      "source": [
        "x = True\n",
        "y = False\n",
        "if x:\n",
        "  print(\"Yes\")"
      ],
      "metadata": {
        "colab": {
          "base_uri": "https://localhost:8080/"
        },
        "id": "mKZfQbjesNzi",
        "outputId": "8af66737-0e9b-44b8-c8bc-4f3a8cc95c80"
      },
      "execution_count": null,
      "outputs": [
        {
          "output_type": "stream",
          "name": "stdout",
          "text": [
            "Yes\n"
          ]
        }
      ]
    },
    {
      "cell_type": "markdown",
      "source": [
        "3. Compare and contrast mutable and immutable objects in Python with examples\n",
        "\n",
        "   - Diffrence between mutable and immutable objects in Python are:\n",
        "   \n",
        "    . Mutable - Objects that can be changed after creation.\n",
        "      Example:  \n",
        "               .list\n",
        "               .dict\n",
        "               .set\n",
        "    . Immutable- Object that cannot be changed after creation\n",
        "      Example:\n",
        "               .int\n",
        "               .float\n",
        "               .str\n",
        "               .tuple\n",
        "               .bool"
      ],
      "metadata": {
        "id": "SbBlr9cisosP"
      }
    },
    {
      "cell_type": "markdown",
      "source": [
        "Mutable Object Example:list"
      ],
      "metadata": {
        "id": "Cu5pqJkh1wZa"
      }
    },
    {
      "cell_type": "code",
      "source": [
        "my_list = [1, 2, 3]\n",
        "my_list[0] = 10\n",
        "print(my_list)"
      ],
      "metadata": {
        "colab": {
          "base_uri": "https://localhost:8080/"
        },
        "id": "-sQ2X3EE17g9",
        "outputId": "f83cb00a-05f5-4768-fe93-1958f2cdb6ec"
      },
      "execution_count": null,
      "outputs": [
        {
          "output_type": "stream",
          "name": "stdout",
          "text": [
            "[10, 2, 3]\n"
          ]
        }
      ]
    },
    {
      "cell_type": "markdown",
      "source": [
        "Immutable object example:string"
      ],
      "metadata": {
        "id": "WGetc0eE2SYF"
      }
    },
    {
      "cell_type": "code",
      "source": [
        "name = \"Ritwik\"\n",
        "name[0] = \"M\""
      ],
      "metadata": {
        "colab": {
          "base_uri": "https://localhost:8080/",
          "height": 158
        },
        "id": "ZBay1EzZ2X_G",
        "outputId": "bc5b6931-1e8b-4c24-e806-c13f38302267"
      },
      "execution_count": null,
      "outputs": [
        {
          "output_type": "error",
          "ename": "TypeError",
          "evalue": "'str' object does not support item assignment",
          "traceback": [
            "\u001b[0;31m---------------------------------------------------------------------------\u001b[0m",
            "\u001b[0;31mTypeError\u001b[0m                                 Traceback (most recent call last)",
            "\u001b[0;32m<ipython-input-46-e67ff7a836ef>\u001b[0m in \u001b[0;36m<cell line: 0>\u001b[0;34m()\u001b[0m\n\u001b[1;32m      1\u001b[0m \u001b[0mname\u001b[0m \u001b[0;34m=\u001b[0m \u001b[0;34m\"Ritwik\"\u001b[0m\u001b[0;34m\u001b[0m\u001b[0;34m\u001b[0m\u001b[0m\n\u001b[0;32m----> 2\u001b[0;31m \u001b[0mname\u001b[0m\u001b[0;34m[\u001b[0m\u001b[0;36m0\u001b[0m\u001b[0;34m]\u001b[0m \u001b[0;34m=\u001b[0m \u001b[0;34m\"M\"\u001b[0m\u001b[0;34m\u001b[0m\u001b[0;34m\u001b[0m\u001b[0m\n\u001b[0m",
            "\u001b[0;31mTypeError\u001b[0m: 'str' object does not support item assignment"
          ]
        }
      ]
    },
    {
      "cell_type": "markdown",
      "source": [
        "Explanation:String cannot be changed after creation-hence,they are immutable"
      ],
      "metadata": {
        "id": "V9Zn1LYq23B2"
      }
    },
    {
      "cell_type": "markdown",
      "source": [
        "4. Discuss the different types of operators in Python and provide examples of how they are used\n",
        "   \n",
        "   - Python has several types of operators, each used to perform specific operations on variables and values. Here’s a breakdown of the most commonly used operator types with examples:\n",
        "\n",
        "a. Arithmetic Operators:\n",
        "Used to perform basic mathematical operations.(*,+,-,/,//,**,%)\n",
        "\n",
        "\n",
        "b. Comparison (Relational) Operators\n",
        "Used to compare values.(==,!=,>,<,>=,<=)\n",
        "\n",
        "c. Assignment Operators\n",
        "Used to assign values to variables.(=,+=,-=,*=,/=)\n",
        "\n",
        "d. Logical Operators\n",
        "Used to combine conditional statements.(and,or,not)\n",
        "\n",
        "e. Bitwise Operators\n",
        "Used to perform operations on binary numbers.(&,^,-,<<,>>)\n",
        "\n",
        "f. Identity Operators\n",
        "Used to compare memory locations.(is,is not)\n",
        "\n",
        "g. Membership Operators\n",
        "Used to check if a value is part of a sequence.(in,in not)\n"
      ],
      "metadata": {
        "id": "xCsbz27b3DPt"
      }
    },
    {
      "cell_type": "markdown",
      "source": [
        "     Example:\n",
        "     \n",
        "     Arithmetic Operators:\n",
        "     Comparison (Relational) Operators:\n",
        "     Assignment Operators:\n",
        "     Logical Operators:\n",
        "     Bitwise Operators:\n",
        "     Identity Operator:\n",
        "     Membership Operators:\n",
        "     \n",
        "\n"
      ],
      "metadata": {
        "id": "YhobNDIS6pVX"
      }
    },
    {
      "cell_type": "code",
      "source": [
        "a = 10\n",
        "b = 20\n",
        "print(a + b)\n",
        "print(a ** b)"
      ],
      "metadata": {
        "colab": {
          "base_uri": "https://localhost:8080/"
        },
        "id": "lnRyZ2xy6rcw",
        "outputId": "284f7531-f614-40c2-9e4b-6c9e19d92a8c"
      },
      "execution_count": null,
      "outputs": [
        {
          "output_type": "stream",
          "name": "stdout",
          "text": [
            "30\n",
            "100000000000000000000\n"
          ]
        }
      ]
    },
    {
      "cell_type": "code",
      "source": [
        "x = 5\n",
        "y = 10\n",
        "print(x < y)"
      ],
      "metadata": {
        "colab": {
          "base_uri": "https://localhost:8080/"
        },
        "id": "-OmWkBYH6_7i",
        "outputId": "af1b18a6-fcf9-4218-a021-bd518c0f6409"
      },
      "execution_count": null,
      "outputs": [
        {
          "output_type": "stream",
          "name": "stdout",
          "text": [
            "True\n"
          ]
        }
      ]
    },
    {
      "cell_type": "code",
      "source": [
        "x = 4\n",
        "x *= 3\n",
        "print(x)"
      ],
      "metadata": {
        "colab": {
          "base_uri": "https://localhost:8080/"
        },
        "id": "1cxEBRKp8YHp",
        "outputId": "b6d746ae-2b04-4daf-a027-02ffee392e1a"
      },
      "execution_count": null,
      "outputs": [
        {
          "output_type": "stream",
          "name": "stdout",
          "text": [
            "12\n"
          ]
        }
      ]
    },
    {
      "cell_type": "code",
      "source": [
        "a = True\n",
        "b = False\n",
        "print(a and b)"
      ],
      "metadata": {
        "colab": {
          "base_uri": "https://localhost:8080/"
        },
        "id": "16tZPTYU8fqw",
        "outputId": "58c49d18-6462-441d-ce2d-73cf7c8591f1"
      },
      "execution_count": null,
      "outputs": [
        {
          "output_type": "stream",
          "name": "stdout",
          "text": [
            "False\n"
          ]
        }
      ]
    },
    {
      "cell_type": "markdown",
      "source": [
        "5.Explain the concept of type casting in Python with examples.\n",
        "  - The concept of type casting in Python are:\n",
        "    Type casting means converting one data type into another. In Python, there are two types of type casting:\n",
        "\n",
        "    a.Implicit Type Casting - Python automatically converts one data type to another during an operation when needed.\n",
        "     Example"
      ],
      "metadata": {
        "id": "vQy3pYTx8-IZ"
      }
    },
    {
      "cell_type": "code",
      "source": [
        "a = 5\n",
        "b = 2.5\n",
        "result = a + b\n",
        "print(result)\n",
        "print(type(result))"
      ],
      "metadata": {
        "colab": {
          "base_uri": "https://localhost:8080/"
        },
        "id": "G4Z1l7LY-gUL",
        "outputId": "642e4490-dd7a-4074-a7c9-18da473fb085"
      },
      "execution_count": null,
      "outputs": [
        {
          "output_type": "stream",
          "name": "stdout",
          "text": [
            "7.5\n",
            "<class 'float'>\n"
          ]
        }
      ]
    },
    {
      "cell_type": "markdown",
      "source": [
        "b. Explicit Type Casting:\n",
        "You manually convert one data type to another using functions like:\n",
        "\n",
        "int() – converts to integer\n",
        "\n",
        "float() – converts to float\n",
        "\n",
        "str() – converts to string\n",
        "\n",
        "list(), tuple(), set() – for sequence conversions\n",
        "\n",
        "Example:"
      ],
      "metadata": {
        "id": "q06-Rr9--96o"
      }
    },
    {
      "cell_type": "code",
      "source": [
        "x = \"100\"\n",
        "y = int(x)\n",
        "print(y+10)"
      ],
      "metadata": {
        "colab": {
          "base_uri": "https://localhost:8080/"
        },
        "id": "NS-i49ID_XP5",
        "outputId": "fd4e40d5-5562-4afe-b20e-3b066122759f"
      },
      "execution_count": null,
      "outputs": [
        {
          "output_type": "stream",
          "name": "stdout",
          "text": [
            "110\n"
          ]
        }
      ]
    },
    {
      "cell_type": "markdown",
      "source": [
        "Why use Type Casting?\n",
        "\n",
        "To perform operations on different data types\n",
        "\n",
        "To format output or input properly\n",
        "\n",
        "To convert data from user input (which is always string)"
      ],
      "metadata": {
        "id": "ryW3H44P_oRw"
      }
    },
    {
      "cell_type": "markdown",
      "source": [
        "6. How do conditional statements work in Python? Illustrate with examples.\n",
        "\n",
        "  - Conditional statements in Python are used to make decisions in your program based on whether a condition is True or False.\n",
        "  \n",
        "  #Types of Conditional Statements\n",
        "\n",
        "1. if Statement\n",
        "Executes a block of code only if the condition is True.\n",
        "\n",
        "\n",
        "2. if-else Statement\n",
        "Executes one block if the condition is True, and another block if it is False.\n",
        "\n",
        "\n",
        "3. if-elif-else Statement\n",
        "Checks multiple conditions in sequence and executes the block under the first True condition.\n",
        "\n",
        "\n",
        "Example:\n",
        "\n"
      ],
      "metadata": {
        "id": "CBOA26L3ABVm"
      }
    },
    {
      "cell_type": "markdown",
      "source": [
        "If Statement:"
      ],
      "metadata": {
        "id": "G4sKZLxIAwmr"
      }
    },
    {
      "cell_type": "code",
      "source": [
        "age = 20\n",
        "if age >= 18:\n",
        "    print(\"you are eligible to vote.\")"
      ],
      "metadata": {
        "colab": {
          "base_uri": "https://localhost:8080/"
        },
        "id": "DXA5dPQIBE_O",
        "outputId": "0ab479f1-b219-440b-875e-e0fe589782b2"
      },
      "execution_count": null,
      "outputs": [
        {
          "output_type": "stream",
          "name": "stdout",
          "text": [
            "you are eligible to vote.\n"
          ]
        }
      ]
    },
    {
      "cell_type": "markdown",
      "source": [
        "If-else Statement"
      ],
      "metadata": {
        "id": "7U9JPT8bB4ED"
      }
    },
    {
      "cell_type": "code",
      "source": [
        "num = 10\n",
        "if num % 2 == 0:\n",
        "    print(\"Even number\")\n",
        "else:\n",
        "    print(\"Odd number\")"
      ],
      "metadata": {
        "colab": {
          "base_uri": "https://localhost:8080/"
        },
        "id": "SdDuNxhRB7J7",
        "outputId": "be212c75-76cc-4c25-dd3a-813b95fd12d1"
      },
      "execution_count": null,
      "outputs": [
        {
          "output_type": "stream",
          "name": "stdout",
          "text": [
            "Even number\n"
          ]
        }
      ]
    },
    {
      "cell_type": "markdown",
      "source": [
        "If-elif-else Statement"
      ],
      "metadata": {
        "id": "zthqs82TCNbh"
      }
    },
    {
      "cell_type": "code",
      "source": [
        "marks = 85\n",
        "if marks >= 90:\n",
        "    print(\"Grade: A\")\n",
        "elif marks >= 75:\n",
        "    print(\"Grade: B\")\n",
        "else:\n",
        "    print(\"Grade: C or below\")"
      ],
      "metadata": {
        "colab": {
          "base_uri": "https://localhost:8080/"
        },
        "id": "DK89Qum2CRdg",
        "outputId": "9c4a6fcd-73ef-4533-f1a5-4790fa0ef43d"
      },
      "execution_count": null,
      "outputs": [
        {
          "output_type": "stream",
          "name": "stdout",
          "text": [
            "Grade: B\n"
          ]
        }
      ]
    },
    {
      "cell_type": "markdown",
      "source": [
        "How It Works\n",
        "\n",
        "Python checks the condition(s) top to bottom.\n",
        "\n",
        "As soon as it finds a condition that is True, it executes that block and skips the rest.\n",
        "\n",
        "Indentation (spaces/tabs) is very important to define which block belongs to which condition."
      ],
      "metadata": {
        "id": "WczK0jf6CaB3"
      }
    },
    {
      "cell_type": "markdown",
      "source": [
        "7. Describe the different types of loops in Python and their use cases with examples.\n",
        "\n",
        "  -  Types of loops in Python\n",
        "   Python provides two main types of loops:\n",
        "  \n",
        "   (a).for Loop\n",
        "  \n",
        "   Used to iterate over a sequence (like list, tuple, string, range, etc.)\n",
        "\n",
        "Automatically handles the iteration count.\n",
        "\n",
        "\n",
        "Use Cases:\n",
        "\n",
        "When you know how many times to loop.\n",
        "\n",
        "Iterating over items in a list or characters in a string.\n",
        "\n"
      ],
      "metadata": {
        "id": "6ppdeBQxCiOn"
      }
    },
    {
      "cell_type": "code",
      "source": [
        "fruits = [\"apple,banana,mango\"]\n",
        "for fruit in fruits:\n",
        "    print(fruits)"
      ],
      "metadata": {
        "colab": {
          "base_uri": "https://localhost:8080/"
        },
        "id": "Xt3fgXxaDpdN",
        "outputId": "c245cd22-d350-4e98-88d3-584ea0945639"
      },
      "execution_count": null,
      "outputs": [
        {
          "output_type": "stream",
          "name": "stdout",
          "text": [
            "['apple,banana,mango']\n"
          ]
        }
      ]
    },
    {
      "cell_type": "markdown",
      "source": [
        "(b). While Loop\n",
        "   \n",
        "   .Repeats a block of code as long as a condition is True.\n",
        "\n",
        "Use when the number of iterations is not known in advance.\n",
        "\n",
        "\n",
        "Use Cases:\n",
        "\n",
        "Taking input until a valid value is entered.\n",
        "\n",
        "Running a loop based on dynamic conditions."
      ],
      "metadata": {
        "id": "1V6mWqo1ECFG"
      }
    },
    {
      "cell_type": "code",
      "source": [
        "count = 1\n",
        "while count <= 5:\n",
        "    print(count)\n",
        "    count += 1"
      ],
      "metadata": {
        "colab": {
          "base_uri": "https://localhost:8080/"
        },
        "id": "VdUD7lMtE2hP",
        "outputId": "58be1ccc-ee9c-4e48-cbfd-87025c044861"
      },
      "execution_count": null,
      "outputs": [
        {
          "output_type": "stream",
          "name": "stdout",
          "text": [
            "1\n",
            "2\n",
            "3\n",
            "4\n",
            "5\n"
          ]
        }
      ]
    },
    {
      "cell_type": "markdown",
      "source": [
        "Loop Control Statements\n",
        "\n",
        "These are used inside loops to control their execution:\n",
        "\n",
        "break: Exits the loop completely.\n",
        "\n",
        "continue: Skips the current iteration and moves to the next.\n",
        "\n",
        "pass: Does nothing; used as a placeholder.\n",
        "\n",
        "\n",
        "Example with break and continue:"
      ],
      "metadata": {
        "id": "l-Q_mA6tFOha"
      }
    },
    {
      "cell_type": "code",
      "source": [
        "for i in range(5):\n",
        "    if i == 3:\n",
        "        continue  # skips 3\n",
        "for i in range(5):\n",
        "    if i == 3:\n",
        "        continue  # skips 3\n",
        "    if i == 4:\n",
        "        break     # stops at 4\n",
        "    print(i)"
      ],
      "metadata": {
        "colab": {
          "base_uri": "https://localhost:8080/"
        },
        "id": "vGUu-jC_FQ9v",
        "outputId": "19b7425a-8294-4e90-9ed8-c5ad13e526db"
      },
      "execution_count": null,
      "outputs": [
        {
          "output_type": "stream",
          "name": "stdout",
          "text": [
            "0\n",
            "1\n",
            "2\n"
          ]
        }
      ]
    }
  ]
}